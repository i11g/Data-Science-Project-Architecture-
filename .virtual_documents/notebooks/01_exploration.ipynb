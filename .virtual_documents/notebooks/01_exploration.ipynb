import numpy as np
import matplotlib.pyplot as plt
import pandas as pd
import re 
import seaborn as sns





# Load teh Dataset
asthma_df = pd.read_csv("data/asthma_disease_data.csv")   
asthma_df.head()





# Shape and basic info
print("Shape:", asthma_df.shape)
print("\nInfo:")
asthma_df.info()

# Summary statistics
asthma_df.describe(include="all").transpose()





# Count missing values
missing = asthma_df.isna().sum().sort_values(ascending=False)

if missing.sum() == 0:
    print("No missing values in the dataset.")
else:
    print("Missing values:\n", missing[missing > 0])
    sns.heatmap(df.isna(), cbar=False)
    plt.title("Missing Values Heatmap")
    plt.show()



# --- 1) Define which features are continuous vs categorical ---
continuous_cols = [
    "Age", "BMI", "PhysicalActivity", "DietQuality",
    "SleepQuality", "PollutionExposure", "PollenExposure",
    "DustExposure", "LungFunctionFEV1", "LungFunctionFVC"
]

categorical_cols = [
    "Gender", "Ethnicity", "EducationLevel", "Smoking",
    "PetAllergy", "FamilyHistoryAsthma", "HistoryOfAllergies",
    "Eczema", "HayFever", "GastroesophagealReflux",
    "Wheezing", "ShortnessOfBreath", "ChestTightness",
    "Coughing", "NighttimeSymptoms", "ExerciseInduced",
    "Diagnosis"
]

# --- 2) Apply label mapping for categorical columns ---
for col in categorical_cols:
    if col in asthma_df.columns:
        asthma_df[f"{col}_label"] = apply_label_map(asthma_df[col], LABEL_MAPS.get(col, {}))

# --- 3) Plot continuous variables (histograms) ---
for col in continuous_cols:
    if col in asthma_df.columns:
        sns.histplot(asthma_df[col], bins=20, kde=True)
        plt.title(f"Distribution of {col}")
        plt.xlabel(col)
        plt.ylabel("Count")
        plt.tight_layout()
        plt.show()

# --- 4) Plot categorical variables (countplots with labels) ---
for col in categorical_cols:
    label_col = f"{col}_label" if f"{col}_label" in asthma_df.columns else col
    sns.countplot(x=label_col, data=asthma_df, order=asthma_df[label_col].value_counts().index)
    plt.title(f"Distribution of {col}")
    plt.xlabel(col)
    plt.ylabel("Count")
    plt.xticks(rotation=30, ha="right")
    plt.tight_layout()
    plt.show()



import numpy as np
import pandas as pd
import seaborn as sns
import matplotlib.pyplot as plt

sns.set(style="whitegrid")
plt.rcParams["figure.figsize"] = (8, 5)

# --- Ensure Diagnosis label exists ---
if "Diagnosis_label" not in asthma_df.columns and "Diagnosis" in asthma_df.columns:
    asthma_df["Diagnosis_label"] = apply_label_map(asthma_df["Diagnosis"], LABEL_MAPS.get("Diagnosis", {}))

# === A) CONTINUOUS VARIABLES SPLIT BY DIAGNOSIS ===
continuous_cols = [
    "Age", "BMI", "PhysicalActivity", "DietQuality",
    "SleepQuality", "PollutionExposure", "PollenExposure",
    "DustExposure", "LungFunctionFEV1", "LungFunctionFVC"
]
continuous_cols = [c for c in continuous_cols if c in asthma_df.columns]

# Helper: common bins per column (so Positive/Negative are comparable)
def common_bins(series, bins=20):
    # Use robust binning that respects min/max and ignores NaNs
    s = series.dropna().astype(float)
    if s.empty:
        return bins
    return np.histogram_bin_edges(s, bins=bins)

for col in continuous_cols:
    # 1) Overlaid histograms by Diagnosis
    bins = common_bins(asthma_df[col], bins=20)
    ax = sns.histplot(
        data=asthma_df, x=col, hue="Diagnosis_label",
        bins=bins, kde=True, element="step", stat="count", common_norm=False
    )
    ax.set_title(f"{col} — Distribution by Diagnosis")
    ax.set_xlabel(col); ax.set_ylabel("Count")
    plt.tight_layout(); plt.show()

    # 2) Boxplot by Diagnosis
    ax = sns.boxplot(data=asthma_df, x="Diagnosis_label", y=col)
    ax.set_title(f"{col} — Boxplot by Diagnosis")
    ax.set_xlabel("Diagnosis"); ax.set_ylabel(col)
    plt.tight_layout(); plt.show()

    # (Optional) Violin + inner quartiles (uncomment if you prefer)
    # ax = sns.violinplot(data=asthma_df, x="Diagnosis_label", y=col, inner="quartile", cut=0)
    # ax.set_title(f"{col} — Violin by Diagnosis")
    # ax.set_xlabel("Diagnosis"); ax.set_ylabel(col)
    # plt.tight_layout(); plt.show()


# === B) CATEGORICAL/BINARY VARIABLES vs DIAGNOSIS ===
categorical_cols = [
    "Gender", "Ethnicity", "EducationLevel", "Smoking",
    "PetAllergy", "FamilyHistoryAsthma", "HistoryOfAllergies",
    "Eczema", "HayFever", "GastroesophagealReflux",
    "Wheezing", "ShortnessOfBreath", "ChestTightness",
    "Coughing", "NighttimeSymptoms", "ExerciseInduced"
]
categorical_cols = [c for c in categorical_cols if c in asthma_df.columns]

# Ensure label-mapped columns exist
for col in categorical_cols:
    lbl = f"{col}_label"
    if lbl not in asthma_df.columns:
        asthma_df[lbl] = apply_label_map(asthma_df[col], LABEL_MAPS.get(col, {}))

# Helper: stacked percentage bar chart (category on X, % by diagnosis)
def stacked_pct_bar(df, cat_label_col, diagnosis_col="Diagnosis_label", rotate_xticks=True):
    # Crosstab to percentages by category
    ct = pd.crosstab(df[cat_label_col], df[diagnosis_col], normalize="index").fillna(0) * 100
    # Keep a stable diagnosis order if present
    order = ["Negative", "Positive"]
    cols_in_ct = [c for c in order if c in ct.columns] + [c for c in ct.columns if c not in order]
    ct = ct[cols_in_ct]

    ax = ct.plot(kind="bar", stacked=True, figsize=(9, 5))
    ax.set_title(f"{cat_label_col.replace('_label','')} — % by Diagnosis")
    ax.set_xlabel(cat_label_col.replace("_label", ""))
    ax.set_ylabel("% of Patients")
    if rotate_xticks:
        plt.xticks(rotation=30, ha="right")
    plt.legend(title="Diagnosis", bbox_to_anchor=(1.02, 1), loc="upper left", borderaxespad=0.)
    plt.tight_layout()
    plt.show()

# Plot stacked % bars for each categorical vs Diagnosis
for col in categorical_cols:
    stacked_pct_bar(asthma_df, f"{col}_label", diagnosis_col="Diagnosis_label")



