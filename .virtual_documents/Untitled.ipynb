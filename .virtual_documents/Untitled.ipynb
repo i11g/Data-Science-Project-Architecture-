import numpy as np
import matplotlib.pyplot as plt
import pandas as pd
import re 
import seaborn as sns





# Load teh Dataset
asthma_df = pd.read_csv("data/asthma_disease_data.csv")   
asthma_df.head()





# Shape and basic info
print("Shape:", asthma_df.shape)
print("\nInfo:")
asthma_df.info()

# Summary statistics
asthma_df.describe(include="all").transpose()





# Count missing values
missing = asthma_df.isna().sum().sort_values(ascending=False)

if missing.sum() == 0:
    print("No missing values in the dataset.")
else:
    print("Missing values:\n", missing[missing > 0])
    sns.heatmap(df.isna(), cbar=False)
    plt.title("Missing Values Heatmap")
    plt.show()



# --- Demographics ---
demo_cols = ["Age", "Gender", "Ethnicity", "EducationLevel", "BMI"]

asthma_df[demo_cols].hist(bins=20, figsize=(12, 8))
plt.suptitle("Demographics & BMI", fontsize=14)
plt.show()

# --- Lifestyle ---
life_cols = ["Smoking", "PhysicalActivity", "DietQuality", "SleepQuality"]

asthma_df[life_cols].hist(bins=20, figsize=(12, 8))
plt.suptitle("Lifestyle Factors", fontsize=14)
plt.show()

# --- Environmental exposures ---
exposure_cols = ["PollutionExposure", "PollenExposure", "DustExposure"]

asthma_df[exposure_cols].hist(bins=20, figsize=(12, 6))
plt.suptitle("Environmental Exposures", fontsize=14)
plt.show()

# --- Allergies & medical history ---
allergy_cols = [
    "PetAllergy", "FamilyHistoryAsthma", "HistoryOfAllergies",
    "Eczema", "HayFever", "GastroesophagealReflux"
]

asthma_df[allergy_cols].hist(bins=20, figsize=(12, 8))
plt.suptitle("Allergies & Medical History", fontsize=14)
plt.show()

# --- Symptoms ---
symptom_cols = [
    "Wheezing", "ShortnessOfBreath", "ChestTightness",
    "Coughing", "NighttimeSymptoms", "ExerciseInduced"
]

asthma_df[symptom_cols].hist(bins=20, figsize=(12, 8))
plt.suptitle("Symptoms", fontsize=14)
plt.show()

# --- Lung function ---
lung_cols = ["LungFunctionFEV1", "LungFunctionFVC"]

asthma_df[lung_cols].hist(bins=20, figsize=(10, 4))
plt.suptitle("Lung Function", fontsize=14)
plt.show()



import pandas as pd
import matplotlib.pyplot as plt
import seaborn as sns

sns.set(style="whitegrid")
plt.rcParams["figure.figsize"] = (8, 5)

# --- 1) Friendly label maps (adjust if your encodings differ) ---
LABEL_MAPS = {
    "Gender": {0: "Male", 1: "Female"},
    "Ethnicity": {0: "Other/Unknown", 1: "White", 2: "Black", 3: "Asian", 4: "Hispanic", 5: "Mixed"},
    "EducationLevel": {0: "None", 1: "Primary", 2: "Secondary", 3: "College", 4: "Graduate"},
    "Smoking": {0: "No", 1: "Yes"},
    "PetAllergy": {0: "No", 1: "Yes"},
    "FamilyHistoryAsthma": {0: "No", 1: "Yes"},
    "HistoryOfAllergies": {0: "No", 1: "Yes"},
    "Eczema": {0: "No", 1: "Yes"},
    "HayFever": {0: "No", 1: "Yes"},
    "GastroesophagealReflux": {0: "No", 1: "Yes"},
    "Wheezing": {0: "No", 1: "Yes"},
    "ShortnessOfBreath": {0: "No", 1: "Yes"},
    "ChestTightness": {0: "No", 1: "Yes"},
    "Coughing": {0: "No", 1: "Yes"},
    "NighttimeSymptoms": {0: "No", 1: "Yes"},
    "ExerciseInduced": {0: "No", 1: "Yes"},
    "Diagnosis": {0: "Negative", 1: "Positive"},
}

# (Optional) quick peek to verify your encodings before mapping:
for col in ["Gender","Ethnicity","EducationLevel","Smoking","Diagnosis"]:
    if col in asthma_df.columns:
        print(f"{col} unique values:", sorted(asthma_df[col].unique()))

# --- 2) Safe mapper (doesn't break if unexpected codes appear) ---
def apply_label_map(series: pd.Series, mapping: dict) -> pd.Series:
    mapped = series.map(mapping)
    return mapped.fillna(series.astype(str))  # keep unexpected codes as strings

# --- 3) Plot helper: countplot with % labels on bars ---
def countplot_with_pct(data: pd.DataFrame, column: str, order=None, title=None, rotate_xticks=False):
    vc = data[column].value_counts(dropna=False)
    if order is None:
        order = vc.index.tolist()
    ax = sns.countplot(data=data, x=column, order=order)
    ax.set_title(title or f"Distribution of {column}")
    ax.set_xlabel(column)
    ax.set_ylabel("Count")
    total = len(data)
    for p in ax.patches:
        height = p.get_height()
        pct = (height / total) * 100 if total else 0
        ax.annotate(f"{pct:.1f}%", (p.get_x() + p.get_width() / 2, height),
                    ha="center", va="bottom", fontsize=10, xytext=(0, 3), textcoords="offset points")
    if rotate_xticks:
        plt.xticks(rotation=45, ha="right")
    plt.tight_layout()
    plt.show()

# --- 4) Columns to map & plot ---
categorical_cols = [
    "Gender", "Ethnicity", "EducationLevel", "Smoking",
    "PetAllergy", "FamilyHistoryAsthma", "HistoryOfAllergies",
    "Eczema", "HayFever", "GastroesophagealReflux",
    "Wheezing", "ShortnessOfBreath", "ChestTightness",
    "Coughing", "NighttimeSymptoms", "ExerciseInduced",
]

# Map and plot main categorical fields
for col in categorical_cols:
    if col in asthma_df.columns:
        display_col = f"{col}_label"
        asthma_df[display_col] = apply_label_map(asthma_df[col], LABEL_MAPS.get(col, {}))
        countplot_with_pct(asthma_df, display_col, title=f"{col}", rotate_xticks=False)

# --- 5) Target (class balance) ---
if "Diagnosis" in asthma_df.columns:
    asthma_df["Diagnosis_label"] = apply_label_map(asthma_df["Diagnosis"], LABEL_MAPS["Diagnosis"])
    countplot_with_pct(asthma_df, "Diagnosis_label", title="Class Distribution (Diagnosis)")

# --- 6) DoctorInCharge (object): show top doctors ---
if "DoctorInCharge" in asthma_df.columns:
    top_k = 15
    top_docs = asthma_df["DoctorInCharge"].value_counts().head(top_k).index
    df_doc = asthma_df[asthma_df["DoctorInCharge"].isin(top_docs)].copy()
    ax = sns.countplot(data=df_doc, y="DoctorInCharge", order=top_docs)
    ax.set_title(f"Top {top_k} Doctors by Patient Count")
    ax.set_xlabel("Count")
    ax.set_ylabel("DoctorInCharge")
    for p in ax.patches:
        ax.annotate(f"{int(p.get_width())}", (p.get_width(), p.get_y() + p.get_height() / 2),
                    ha="left", va="center", fontsize=10, xytext=(3, 0), textcoords="offset points")
    plt.tight_layout()
    plt.show()



